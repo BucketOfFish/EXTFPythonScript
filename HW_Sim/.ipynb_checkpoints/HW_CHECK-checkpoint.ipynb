{
 "cells": [
  {
   "cell_type": "code",
   "execution_count": 1,
   "metadata": {},
   "outputs": [],
   "source": [
    "import numpy as np"
   ]
  },
  {
   "cell_type": "code",
   "execution_count": 10,
   "metadata": {},
   "outputs": [],
   "source": [
    "hex2bin_map = {\n",
    "   \"0\":\"0000\",\n",
    "   \"1\":\"0001\",\n",
    "   \"2\":\"0010\",\n",
    "   \"3\":\"0011\",\n",
    "   \"4\":\"0100\",\n",
    "   \"5\":\"0101\",\n",
    "   \"6\":\"0110\",    \n",
    "   \"7\":\"0111\",\n",
    "   \"8\":\"1000\",\n",
    "   \"9\":\"1001\",\n",
    "   \"a\":\"1010\",\n",
    "   \"b\":\"1011\",\n",
    "   \"c\":\"1100\",\n",
    "   \"d\":\"1101\",\n",
    "   \"e\":\"1110\",\n",
    "   \"f\":\"1111\",\n",
    "}"
   ]
  },
  {
   "cell_type": "code",
   "execution_count": 102,
   "metadata": {},
   "outputs": [],
   "source": [
    "def import_txt(file_str):\n",
    "    results = []\n",
    "    with open(file_str) as inputfile:\n",
    "        for line in inputfile:\n",
    "##        print(line.strip()[-4:])\n",
    "            results.append(line.strip()[-4:].split(','))\n",
    "    track_results = results[14:len(results)-16]\n",
    "    n_track = int(np.floor(len(track_results)/28))\n",
    "    track_v = np.array(track_results).reshape(n_track,-1)\n",
    "    return track_v, results"
   ]
  },
  {
   "cell_type": "code",
   "execution_count": 5,
   "metadata": {},
   "outputs": [],
   "source": [
    "def overlap_m(track_v, verb):\n",
    "    num_track = len(track_v)\n",
    "    re_matrix = list(np.array(range(num_track)))\n",
    "    for i in range(num_track):\n",
    "        for j in range(num_track):\n",
    "            if i > j:\n",
    "                check = (track_v[i,12:] == track_v[j,12:])\n",
    "                hits = np.floor(sum(check[0:2])/2)+np.floor(sum(check[2:4])/2)+np.floor(sum(check[4:6])/2)+np.floor(sum(check[6:8])/2)+sum(check[8:16])\n",
    "                if hits>6:\n",
    "                    if verb==\"v\":\n",
    "                        print(hits,i,j, check)\n",
    "                    re_matrix[j] = np.append(re_matrix[j], [i])\n",
    "    return re_matrix"
   ]
  },
  {
   "cell_type": "code",
   "execution_count": 6,
   "metadata": {},
   "outputs": [],
   "source": [
    "def cleanup_index(re_matrix):\n",
    "    num_track = len(re_matrix)\n",
    "    index_v = np.ones(num_track)\n",
    "    for i in range(num_track):\n",
    "        if type(re_matrix[i])==np.ndarray:\n",
    "            len_in = len(re_matrix[i])\n",
    "        else:\n",
    "            len_in = 1\n",
    "        for j in range(1,len_in):\n",
    "            index_v[re_matrix[i][j]] = 0\n",
    "    return index_v\n",
    "##        re_matrix[re_matrix[i][j]] = [-1]"
   ]
  },
  {
   "cell_type": "code",
   "execution_count": 13,
   "metadata": {},
   "outputs": [],
   "source": [
    "def hex2bin(hex_num):\n",
    "    bin_num = \"\"\n",
    "    for i in range(1,4):\n",
    "        bin_num = bin_num+hex2bin_map[hex_num[i]]\n",
    "    return bin_num"
   ]
  },
  {
   "cell_type": "code",
   "execution_count": 26,
   "metadata": {},
   "outputs": [],
   "source": [
    "def layer_map_sum(layer_map):\n",
    "    lmap_v = np.zeros(12)\n",
    "    lmap_sum = 0\n",
    "    for i in range(0,12):\n",
    "        lmap_v[i] = int(layer_map[i])\n",
    "##    print(lmap_v)\n",
    "    lmap_sum = sum(lmap_v)\n",
    "    return lmap_sum"
   ]
  },
  {
   "cell_type": "code",
   "execution_count": 74,
   "metadata": {},
   "outputs": [],
   "source": [
    "def track_picking(rc_v, track_v, verb):\n",
    "    if isinstance(rc_v, np.ndarray):\n",
    "        sum_v = np.zeros(len(rc_v))\n",
    "        chisq_v = []\n",
    "        for i in range(len(rc_v)):\n",
    "            sum_v[i] = layer_map_sum(hex2bin(track_v[rc_v[i],3]))\n",
    "            chisq_v.append(track_v[rc_v[i],6])\n",
    "            if verb==\"v\":\n",
    "                print(hex2bin(track_v[rc_v[i],3]), rc_v[i])\n",
    "        l_max = np.where(sum_v == max(sum_v))[0]\n",
    "        if verb==\"v\":\n",
    "            print(chisq_v, l_max)\n",
    "        select_index = l_max[0]\n",
    "        if len(l_max)>1:\n",
    "            chisq_min = '7c00'\n",
    "            #chisq_min = chisq_v[0]\n",
    "            for j in range(len(l_max)):\n",
    "                if verb==\"v\":\n",
    "                    print(chisq_min)\n",
    "                if chisq_min > chisq_v[l_max[j]]:\n",
    "                    chisq_min = chisq_v[l_max[j]]\n",
    "            select_index = chisq_v.index(chisq_min)\n",
    "        track_index = rc_v[select_index]\n",
    "    else: \n",
    "        track_index = rc_v\n",
    "    ##print(track_index)\n",
    "    return track_index"
   ]
  },
  {
   "cell_type": "code",
   "execution_count": 123,
   "metadata": {},
   "outputs": [],
   "source": [
    "def HitWarrior(track_v, verbal=\"s\"):\n",
    "    matrix = overlap_m(track_v, verbal)\n",
    "    index_v = cleanup_index(matrix)\n",
    "    re_cluster = np.delete(matrix,np.where(index_v < 0.05), axis=0)\n",
    "    HW_output_index = np.ones((len(re_cluster),), dtype=int)*200\n",
    "    for i in range(len(re_cluster)):\n",
    "        HW_output_index[i] = track_picking(re_cluster[i], track_v, verbal)\n",
    "    return re_cluster, HW_output_index"
   ]
  },
  {
   "cell_type": "code",
   "execution_count": 124,
   "metadata": {},
   "outputs": [],
   "source": [
    "track_v, _ = import_txt('ftksim_3tracks.txt')"
   ]
  },
  {
   "cell_type": "code",
   "execution_count": 125,
   "metadata": {},
   "outputs": [],
   "source": [
    "rc, HW_out = HitWarrior(track_v)"
   ]
  },
  {
   "cell_type": "code",
   "execution_count": 126,
   "metadata": {},
   "outputs": [
    {
     "data": {
      "text/plain": [
       "[16, 1, 18, 5, 8, 25]"
      ]
     },
     "execution_count": 126,
     "metadata": {},
     "output_type": "execute_result"
    }
   ],
   "source": [
    "list(HW_out)"
   ]
  },
  {
   "cell_type": "code",
   "execution_count": 127,
   "metadata": {},
   "outputs": [
    {
     "data": {
      "text/plain": [
       "[array([ 0,  6,  7,  9, 12, 16]),\n",
       " 1,\n",
       " array([ 2,  3,  4, 17, 18, 20, 21, 22]),\n",
       " 5,\n",
       " array([ 8, 10, 11, 13, 14]),\n",
       " array([15, 19, 23, 24, 25, 26, 27])]"
      ]
     },
     "execution_count": 127,
     "metadata": {},
     "output_type": "execute_result"
    }
   ],
   "source": [
    "list(rc)"
   ]
  },
  {
   "cell_type": "code",
   "execution_count": 111,
   "metadata": {},
   "outputs": [],
   "source": [
    "hw_v, _ = import_txt('ftksim_3tracks_hwout.txt')"
   ]
  },
  {
   "cell_type": "code",
   "execution_count": 134,
   "metadata": {},
   "outputs": [
    {
     "name": "stdout",
     "output_type": "stream",
     "text": [
      "in_track #16 --> out_track #1\n",
      "[ True  True  True  True  True  True  True  True  True  True  True  True\n",
      "  True  True  True  True  True  True  True  True  True  True  True  True\n",
      "  True  True  True  True]\n",
      "in_track #1 --> out_track #3\n",
      "[ True  True  True  True  True  True  True  True  True  True  True  True\n",
      "  True  True  True  True  True  True  True  True  True  True  True  True\n",
      "  True  True  True  True]\n",
      "in_track #18 --> out_track #2\n",
      "[ True  True  True  True  True  True  True  True  True  True  True  True\n",
      "  True  True  True  True  True  True  True  True  True  True  True  True\n",
      "  True  True  True  True]\n",
      "in_track #5 --> out_track #4\n",
      "[ True  True  True  True  True  True  True  True  True  True  True  True\n",
      "  True  True  True  True  True  True  True  True  True  True  True  True\n",
      "  True  True  True  True]\n",
      "in_track #8 --> out_track #5\n",
      "[ True  True  True  True  True  True  True  True  True  True  True  True\n",
      "  True  True  True  True  True  True  True  True  True  True  True  True\n",
      "  True  True  True  True]\n",
      "in_track #25 --> out_track #0\n",
      "[ True  True  True  True  True  True  True  True  True  True  True  True\n",
      "  True  True  True  True  True  True  True  True  True  True  True  True\n",
      "  True  True  True  True]\n"
     ]
    }
   ],
   "source": [
    "for i in range(len(HW_out)):\n",
    "    for j in range(len(hw_v)):\n",
    "        if sum(track_v[HW_out[i], 12:28] == hw_v[j, 12:28]) > 10:\n",
    "            print(\"in_track #\",HW_out[i],\" --> out_track #\",j, sep=\"\")\n",
    "            print(track_v[HW_out[i]] == hw_v[j])"
   ]
  },
  {
   "cell_type": "code",
   "execution_count": 112,
   "metadata": {},
   "outputs": [
    {
     "data": {
      "text/plain": [
       "array(['9bda', '064e', '0000', '0f7f', '0000', '0000', '49f7', '3584',\n",
       "       'd6b6', '13fe', '3e75', '8de7', '0307', '0780', '0760', '120c',\n",
       "       '0760', '13cc', '0760', '15f4', '048e', '04b6', '0016', '07f1',\n",
       "       '01c6', '01ec', '0392', '036a'], dtype='<U4')"
      ]
     },
     "execution_count": 112,
     "metadata": {},
     "output_type": "execute_result"
    }
   ],
   "source": [
    "hw_v[0]"
   ]
  },
  {
   "cell_type": "code",
   "execution_count": 85,
   "metadata": {},
   "outputs": [
    {
     "data": {
      "text/plain": [
       "array([ True,  True,  True,  True,  True,  True,  True,  True,  True,\n",
       "        True,  True,  True,  True,  True,  True,  True,  True,  True,\n",
       "        True,  True,  True,  True,  True,  True,  True,  True,  True,\n",
       "        True])"
      ]
     },
     "execution_count": 85,
     "metadata": {},
     "output_type": "execute_result"
    }
   ],
   "source": [
    "hw_v[0] == track_v[25]"
   ]
  },
  {
   "cell_type": "code",
   "execution_count": 43,
   "metadata": {},
   "outputs": [
    {
     "data": {
      "text/plain": [
       "array([ True,  True,  True,  True,  True,  True,  True,  True,  True,\n",
       "        True,  True,  True,  True,  True,  True,  True,  True,  True,\n",
       "        True,  True,  True,  True,  True,  True,  True,  True,  True,\n",
       "        True])"
      ]
     },
     "execution_count": 43,
     "metadata": {},
     "output_type": "execute_result"
    }
   ],
   "source": [
    "hw_v[5] == track_v[8]"
   ]
  },
  {
   "cell_type": "code",
   "execution_count": 58,
   "metadata": {},
   "outputs": [
    {
     "data": {
      "text/plain": [
       "array([ True,  True,  True,  True,  True,  True,  True,  True,  True,\n",
       "        True,  True,  True,  True,  True,  True,  True,  True,  True,\n",
       "        True,  True,  True,  True,  True,  True,  True,  True,  True,\n",
       "        True])"
      ]
     },
     "execution_count": 58,
     "metadata": {},
     "output_type": "execute_result"
    }
   ],
   "source": [
    "hw_v[1] == track_v[16]"
   ]
  },
  {
   "cell_type": "code",
   "execution_count": 79,
   "metadata": {},
   "outputs": [
    {
     "data": {
      "text/plain": [
       "array([ True,  True,  True,  True,  True,  True,  True,  True,  True,\n",
       "        True,  True,  True,  True,  True,  True,  True,  True,  True,\n",
       "        True,  True,  True,  True,  True,  True,  True,  True,  True,\n",
       "        True])"
      ]
     },
     "execution_count": 79,
     "metadata": {},
     "output_type": "execute_result"
    }
   ],
   "source": [
    "hw_v[2] == track_v[18]"
   ]
  },
  {
   "cell_type": "code",
   "execution_count": 83,
   "metadata": {},
   "outputs": [
    {
     "data": {
      "text/plain": [
       "array([ True,  True,  True,  True,  True,  True,  True,  True,  True,\n",
       "        True,  True,  True,  True,  True,  True,  True,  True,  True,\n",
       "        True,  True,  True,  True,  True,  True,  True,  True,  True,\n",
       "        True])"
      ]
     },
     "execution_count": 83,
     "metadata": {},
     "output_type": "execute_result"
    }
   ],
   "source": [
    "hw_v[3] == track_v[1]"
   ]
  },
  {
   "cell_type": "code",
   "execution_count": 84,
   "metadata": {},
   "outputs": [
    {
     "data": {
      "text/plain": [
       "array([ True,  True,  True,  True,  True,  True,  True,  True,  True,\n",
       "        True,  True,  True,  True,  True,  True,  True,  True,  True,\n",
       "        True,  True,  True,  True,  True,  True,  True,  True,  True,\n",
       "        True])"
      ]
     },
     "execution_count": 84,
     "metadata": {},
     "output_type": "execute_result"
    }
   ],
   "source": [
    "hw_v[4] == track_v[5]"
   ]
  },
  {
   "cell_type": "code",
   "execution_count": 80,
   "metadata": {},
   "outputs": [
    {
     "data": {
      "text/plain": [
       "['9bda',\n",
       " '1c4e',\n",
       " '0000',\n",
       " '0fff',\n",
       " '0000',\n",
       " '0000',\n",
       " '4e46',\n",
       " '3766',\n",
       " 'd6c4',\n",
       " '2944',\n",
       " '3f0f',\n",
       " '0ccd',\n",
       " '4313',\n",
       " '2498',\n",
       " '07a0',\n",
       " '166c',\n",
       " '07c0',\n",
       " '00c8',\n",
       " '0800',\n",
       " '1484',\n",
       " '0594',\n",
       " '05b0',\n",
       " '0030',\n",
       " '001a',\n",
       " '00ae',\n",
       " '10c1',\n",
       " '00e0',\n",
       " '10cf']"
      ]
     },
     "execution_count": 80,
     "metadata": {},
     "output_type": "execute_result"
    }
   ],
   "source": [
    "list(hw_v[2])"
   ]
  },
  {
   "cell_type": "code",
   "execution_count": 88,
   "metadata": {},
   "outputs": [
    {
     "name": "stdout",
     "output_type": "stream",
     "text": [
      "['9bda' '9bda' '9bda' '9bda' '9bda' '9bda']\n",
      "['064e' '0019' '1c4e' '174c' '104e' '0097']\n",
      "['0000' '0000' '0000' '0000' '0000' '0000']\n",
      "['0f7f' '0f7f' '0fff' '0ffb' '0fcf' '0f3f']\n",
      "['0000' '0000' '0000' '0000' '0000' '0000']\n",
      "['0000' '0000' '0000' '0000' '0000' '0000']\n",
      "['49f7' '4b23' '4e46' '420c' '4d6b' '45e7']\n",
      "['3584' '35da' '3766' '3935' '391a' '369c']\n",
      "['d6b6' 'd6b9' 'd6c4' 'c870' 'd0e6' 'd6b6']\n",
      "['13fe' 'ad5a' '2944' 'b7f7' 'b90a' '1131']\n",
      "['3e75' '3e48' '3f0f' '3fef' '3fa0' '3e79']\n",
      "['8de7' '8b84' '0ccd' '0e98' '0fe9' '083d']\n",
      "----------------------------------------------\n",
      "['0307' '0299' '4313' '02fd' '13c6' '0307']\n",
      "['0780' '186c' '2498' '0970' '115c' '0790']\n",
      "['0760' '06b0' '07a0' '1938' '039c' '0760']\n",
      "['120c' '0088' '166c' '03f0' '0148' '01c0']\n",
      "['0760' '0630' '07c0' '0640' '0910' '0760']\n",
      "['13cc' '10e4' '00c8' '03e2' '18a4' '02a0']\n",
      "['0760' '05d0' '0800' '03c0' '05fc' '0760']\n",
      "['15f4' '0198' '1484' '01c0' '0540' '1374']\n",
      "['048e' '02b2' '0594' '05ba' '0300' '0226']\n",
      "['04b6' '0276' '05b0' '0596' '0321' '024c']\n",
      "['0016' '0358' '0030' '01ba' '03f0' '0213']\n",
      "['07f1' '638c' '001a' '11bb' '041e' '01ef']\n",
      "['01c6' '0432' '00ae' '0370' '04ce' '020a']\n",
      "['01ec' '0404' '10c1' '1393' '04ce' '022e']\n",
      "['0392' '251c' '00e0' '04aa' '053c' '01d4']\n",
      "['036a' '3545' '10cf' '14df' '150f' '01b0']\n"
     ]
    }
   ],
   "source": [
    "for i in range(28):\n",
    "    if i == 12:\n",
    "        print(\"----------------------------------------------\")\n",
    "    print(hw_v[:,i])"
   ]
  },
  {
   "cell_type": "code",
   "execution_count": null,
   "metadata": {},
   "outputs": [],
   "source": [
    "for i in range(28):\n",
    "    print(hw_v[2,i], track_v[2,i], track_v[3,i], track_v[4,i], track_v[17,i], track_v[18,i])"
   ]
  },
  {
   "cell_type": "code",
   "execution_count": null,
   "metadata": {},
   "outputs": [],
   "source": [
    "print(hex2bin(track_v[0,3]),hex2bin(track_v[6,3]),hex2bin(track_v[7,3]),hex2bin(track_v[9,3]),hex2bin(track_v[12,3]),hex2bin(track_v[16,3]))"
   ]
  },
  {
   "cell_type": "code",
   "execution_count": null,
   "metadata": {},
   "outputs": [],
   "source": [
    "print(hex2bin(track_v[8,3]),hex2bin(track_v[10,3]),hex2bin(track_v[11,3]),hex2bin(track_v[13,3]),hex2bin(track_v[14,3]))"
   ]
  },
  {
   "cell_type": "code",
   "execution_count": null,
   "metadata": {},
   "outputs": [],
   "source": [
    "track_v[16]"
   ]
  },
  {
   "cell_type": "code",
   "execution_count": 50,
   "metadata": {},
   "outputs": [
    {
     "data": {
      "text/plain": [
       "array(['9bda', '0019', '0000', '0f7f', '0000', '0000', '4b23', '35da',\n",
       "       'd6b9', 'ad5a', '3e48', '8b84', '0299', '186c', '06b0', '0088',\n",
       "       '0630', '10e4', '05d0', '0198', '02b2', '0276', '0358', '638c',\n",
       "       '0432', '0404', '251c', '3545'], dtype='<U4')"
      ]
     },
     "execution_count": 50,
     "metadata": {},
     "output_type": "execute_result"
    }
   ],
   "source": [
    "hw_v[1]"
   ]
  },
  {
   "cell_type": "code",
   "execution_count": 52,
   "metadata": {},
   "outputs": [
    {
     "data": {
      "text/plain": [
       "array(['9bda', '0097', '0000', '0f3f', '0000', '0000', '45e7', '369c',\n",
       "       'd6b6', '1131', '3e79', '083d', '0307', '0790', '0760', '01c0',\n",
       "       '0760', '02a0', '0760', '1374', '0226', '024c', '0213', '01ef',\n",
       "       '020a', '022e', '01d4', '01b0'], dtype='<U4')"
      ]
     },
     "execution_count": 52,
     "metadata": {},
     "output_type": "execute_result"
    }
   ],
   "source": [
    "track_v[8]"
   ]
  },
  {
   "cell_type": "code",
   "execution_count": null,
   "metadata": {},
   "outputs": [],
   "source": [
    "track_v[16]==hw_v[1]"
   ]
  },
  {
   "cell_type": "code",
   "execution_count": null,
   "metadata": {},
   "outputs": [],
   "source": [
    "hex_x = np.array([0x420c])"
   ]
  },
  {
   "cell_type": "code",
   "execution_count": null,
   "metadata": {},
   "outputs": [],
   "source": [
    "hex_x.astype(float)"
   ]
  },
  {
   "cell_type": "code",
   "execution_count": null,
   "metadata": {},
   "outputs": [],
   "source": [
    "np.argmin([track_v[8,6],track_v[10,6],track_v[11,6],track_v[13,6],track_v[14,6]])"
   ]
  },
  {
   "cell_type": "code",
   "execution_count": null,
   "metadata": {},
   "outputs": [],
   "source": [
    "np.where(test_v == min(test_v))"
   ]
  },
  {
   "cell_type": "code",
   "execution_count": null,
   "metadata": {},
   "outputs": [],
   "source": [
    "test_list = [track_v[15,6],track_v[15,6],track_v[19,6],track_v[23,6],track_v[24,6],track_v[25,6],track_v[26,6]]"
   ]
  },
  {
   "cell_type": "code",
   "execution_count": null,
   "metadata": {},
   "outputs": [],
   "source": [
    "test_v = np.array(test_list)"
   ]
  },
  {
   "cell_type": "code",
   "execution_count": null,
   "metadata": {},
   "outputs": [],
   "source": [
    "min(test_v)"
   ]
  },
  {
   "cell_type": "code",
   "execution_count": null,
   "metadata": {},
   "outputs": [],
   "source": [
    "test_v"
   ]
  },
  {
   "cell_type": "code",
   "execution_count": null,
   "metadata": {},
   "outputs": [],
   "source": [
    "np.where(test_v == min(test_v))[0]"
   ]
  },
  {
   "cell_type": "code",
   "execution_count": null,
   "metadata": {},
   "outputs": [],
   "source": [
    "[track_v[8,5],track_v[10,5],track_v[11,5],track_v[13,5],track_v[14,5]]"
   ]
  },
  {
   "cell_type": "code",
   "execution_count": null,
   "metadata": {},
   "outputs": [],
   "source": [
    "[track_v[8,4],track_v[10,4],track_v[11,4],track_v[13,4],track_v[14,4]]"
   ]
  },
  {
   "cell_type": "code",
   "execution_count": null,
   "metadata": {},
   "outputs": [],
   "source": [
    "track_v[8]"
   ]
  },
  {
   "cell_type": "code",
   "execution_count": null,
   "metadata": {},
   "outputs": [],
   "source": [
    "hw_v[5]==track_v[8]"
   ]
  },
  {
   "cell_type": "code",
   "execution_count": null,
   "metadata": {},
   "outputs": [],
   "source": []
  }
 ],
 "metadata": {
  "kernelspec": {
   "display_name": "Python 3",
   "language": "python",
   "name": "python3"
  },
  "language_info": {
   "codemirror_mode": {
    "name": "ipython",
    "version": 3
   },
   "file_extension": ".py",
   "mimetype": "text/x-python",
   "name": "python",
   "nbconvert_exporter": "python",
   "pygments_lexer": "ipython3",
   "version": "3.7.2"
  }
 },
 "nbformat": 4,
 "nbformat_minor": 2
}
