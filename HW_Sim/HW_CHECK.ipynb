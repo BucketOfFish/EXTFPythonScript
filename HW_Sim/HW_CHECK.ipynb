{
 "cells": [
  {
   "cell_type": "code",
   "execution_count": 1,
   "metadata": {},
   "outputs": [],
   "source": [
    "import numpy as np"
   ]
  },
  {
   "cell_type": "code",
   "execution_count": 2,
   "metadata": {},
   "outputs": [],
   "source": [
    "def import_txt(file_str):\n",
    "    '''Read files as hex arrays. Returns an array of tracks with 28 hex strings per track.\n",
    "    First 12 hex strings are track fit constants, and last 16 hex strings are hit coordinates.'''\n",
    "    results = []\n",
    "    with open(file_str) as inputfile:\n",
    "        for line in inputfile:\n",
    "            results.append(line.strip()[-4:].split(','))\n",
    "    track_results = results[14:len(results)-16]\n",
    "    n_track = int(np.floor(len(track_results)/28))\n",
    "    track_v = np.array(track_results).reshape(n_track,-1)\n",
    "    return track_v"
   ]
  },
  {
   "cell_type": "code",
   "execution_count": 3,
   "metadata": {},
   "outputs": [],
   "source": [
    "track_v = import_txt('ftksim_3tracks.txt')\n",
    "hw_v = import_txt('ftksim_3tracks_hwout.txt')"
   ]
  },
  {
   "cell_type": "code",
   "execution_count": 4,
   "metadata": {},
   "outputs": [],
   "source": [
    "def matching_track_clusters(track_v):\n",
    "    '''Given an array of tracks, return a list of matching (sharing 6 or more hits) track indices.\n",
    "    e.g. Given 5 tracks, where tracks 0 and 1 match, and tracks 3 and 4 match, return [[0,1], [2], [3,4]].\n",
    "    Note that if tracks 0 and 1 match, and tracks 1 and 2 match, we consider tracks 0 and 2 to match.'''\n",
    "    def n_matching_hits(track_i, track_j):\n",
    "        '''Number of matching hits (IBL+SCT) between two tracks.'''\n",
    "        matches = (track_i[12:] == track_j[12:])\n",
    "        n_IBL_matches = (matches[0]&matches[1])+(matches[2]&matches[3])+(matches[4]&matches[5])+(matches[6]&matches[7])\n",
    "        n_SCT_matches = sum(matches[8:16])\n",
    "        return n_IBL_matches + n_SCT_matches\n",
    "    track_clusters = []\n",
    "    for i in range(len(track_v)):\n",
    "        current_cluster = []\n",
    "        for j in range(i, len(track_v)):\n",
    "            if n_matching_hits(track_v[i], track_v[j])>6: current_cluster.append(j)\n",
    "        is_new_cluster = True\n",
    "        for n, cluster in enumerate(track_clusters):\n",
    "            combined_cluster = set(cluster+current_cluster)\n",
    "            if len(combined_cluster) < len(cluster) + len(current_cluster):\n",
    "                track_clusters[n] = list(combined_cluster)\n",
    "                is_new_cluster = False\n",
    "                break\n",
    "        if is_new_cluster: track_clusters.append(current_cluster)\n",
    "    track_clusters = [np.array(i) for i in track_clusters]\n",
    "    return track_clusters\n",
    "\n",
    "def best_track(track_cluster, track_v):\n",
    "    '''For each track cluster, return the index of the track with the best fit parameters (lowest chi2 out of\n",
    "    tracks with most layer map hits).'''\n",
    "    def hex2bin(hex_num):\n",
    "        '''Replaces each character of a hex string (ignoring the leading 0) with four bits.\n",
    "        e.g. hex2bin(\"0af1\") = \"101011110001\".'''\n",
    "        def hex2bin_map(x):\n",
    "            '''Interprets a character as hex and converts to a padded 4-digit binary string.'''\n",
    "            return bin(int(\"0x\"+x,16))[2:].zfill(4)\n",
    "        bin_num = \"\"\n",
    "        for i in range(1,4):\n",
    "            bin_num = bin_num+hex2bin_map(hex_num[i])\n",
    "        return bin_num\n",
    "    def layer_map_sum(layer_map):\n",
    "        '''Sums up the number of 1\\'s in a string.\n",
    "        e.g. \"111101110111\" returns 11.'''\n",
    "        return layer_map.count(\"1\")\n",
    "    layer_map_sum_v = [layer_map_sum(hex2bin(track_v[cluster,3])) for cluster in track_cluster]\n",
    "    chisq_v = [track_v[cluster,6] for cluster in track_cluster]\n",
    "    indices_with_max_layer_map_hits = np.where([i==max(layer_map_sum_v) for i in layer_map_sum_v])[0]\n",
    "    best_index = chisq_v.index(min(np.array(chisq_v)[indices_with_max_layer_map_hits]))\n",
    "    return track_cluster[best_index]\n",
    "\n",
    "def HitWarrior(track_v):\n",
    "    '''Given a set of tracks, we cluster them into matching tracks, and find the best track from each cluster.'''\n",
    "    track_clusters = matching_track_clusters(track_v)\n",
    "    best_tracks = [best_track(cluster, track_v) for cluster in track_clusters]\n",
    "    return track_clusters, best_tracks"
   ]
  },
  {
   "cell_type": "code",
   "execution_count": 5,
   "metadata": {},
   "outputs": [
    {
     "name": "stdout",
     "output_type": "stream",
     "text": [
      "[array([ 0,  6,  7,  9, 12, 16]), array([1]), array([ 2,  3,  4, 17, 18, 20, 21, 22]), array([5]), array([ 8, 10, 11, 13, 14]), array([15, 19, 23, 24, 25, 26, 27])]\n",
      "[16, 1, 18, 5, 8, 25]\n"
     ]
    }
   ],
   "source": [
    "track_clusters, HW_tracks = HitWarrior(track_v)\n",
    "print(list(track_clusters))\n",
    "print(list(HW_tracks))"
   ]
  },
  {
   "cell_type": "code",
   "execution_count": null,
   "metadata": {},
   "outputs": [],
   "source": []
  }
 ],
 "metadata": {
  "kernelspec": {
   "display_name": "Python 3",
   "language": "python",
   "name": "python3"
  },
  "language_info": {
   "codemirror_mode": {
    "name": "ipython",
    "version": 3
   },
   "file_extension": ".py",
   "mimetype": "text/x-python",
   "name": "python",
   "nbconvert_exporter": "python",
   "pygments_lexer": "ipython3",
   "version": "3.7.2"
  }
 },
 "nbformat": 4,
 "nbformat_minor": 2
}
