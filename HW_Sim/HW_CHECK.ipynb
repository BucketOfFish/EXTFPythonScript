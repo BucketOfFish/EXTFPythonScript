{
 "cells": [
  {
   "cell_type": "code",
   "execution_count": 3,
   "metadata": {},
   "outputs": [],
   "source": [
    "import numpy as np"
   ]
  },
  {
   "cell_type": "code",
   "execution_count": 4,
   "metadata": {},
   "outputs": [],
   "source": [
    "def import_txt(file_str):\n",
    "    '''Read files as hex arrays. Returns an array of tracks with 28 hex strings per track.\n",
    "    First 12 hex strings are track fit constants, and last 16 hex strings are hit coordinates.'''\n",
    "    results = []\n",
    "    with open(file_str) as inputfile:\n",
    "        for line in inputfile:\n",
    "            results.append(line.strip()[-4:].split(','))\n",
    "    track_results = results[14:len(results)-16]\n",
    "    n_track = int(np.floor(len(track_results)/28))\n",
    "    track_v = np.array(track_results).reshape(n_track,-1)\n",
    "    return track_v"
   ]
  },
  {
   "cell_type": "code",
   "execution_count": 5,
   "metadata": {},
   "outputs": [],
   "source": [
    "track_v = import_txt('ftksim_3tracks.txt')\n",
    "hw_v = import_txt('ftksim_3tracks_hwout.txt')"
   ]
  },
  {
   "cell_type": "code",
   "execution_count": 59,
   "metadata": {},
   "outputs": [],
   "source": [
    "def overlap_matrix(track_v):\n",
    "    def n_matching_hits(track_i, track_j):\n",
    "        '''Number of matching hits (IBL+SCT) between two tracks.'''\n",
    "        matches = (track_i[12:] == track_j[12:])\n",
    "        n_IBL_matches = (matches[0]&matches[1])+(matches[2]&matches[3])+(matches[4]&matches[5])+(matches[6]&matches[7])\n",
    "        n_SCT_matches = sum(matches[8:16])\n",
    "        return n_IBL_matches + n_SCT_matches\n",
    "    num_track = len(track_v)\n",
    "    re_matrix = list(range(num_track))\n",
    "    for j in range(num_track):\n",
    "        for i in range(j+1, num_track):\n",
    "            hits = n_matching_hits(track_v[i], track_v[j])\n",
    "            if hits>6:\n",
    "                re_matrix[j] = np.append(re_matrix[j], [i])\n",
    "    return re_matrix\n",
    "\n",
    "def hex2bin(hex_num):\n",
    "    '''Replaces each character of a hex string (ignoring the leading 0) with four bits.\n",
    "    e.g. hex2bin(\"0af1\") = \"101011110001\".'''\n",
    "    def hex2bin_map(x):\n",
    "        '''Interprets a character as hex and converts to a padded 4-digit binary string.'''\n",
    "        return bin(int(\"0x\"+x,16))[2:].zfill(4)\n",
    "    bin_num = \"\"\n",
    "    for i in range(1,4):\n",
    "        bin_num = bin_num+hex2bin_map(hex_num[i])\n",
    "    return bin_num\n",
    "\n",
    "def track_picking(rc_v, track_v):    \n",
    "    def layer_map_sum(layer_map):\n",
    "        '''Sums up the number of 1\\'s in a string.\n",
    "        e.g. \"111101110111\" returns 11.'''\n",
    "        return layer_map.count(\"1\")\n",
    "    if isinstance(rc_v, np.ndarray):\n",
    "        sum_v = np.zeros(len(rc_v))\n",
    "        chisq_v = []\n",
    "        for i in range(len(rc_v)):\n",
    "            sum_v[i] = layer_map_sum(hex2bin(track_v[rc_v[i],3]))\n",
    "            chisq_v.append(track_v[rc_v[i],6])\n",
    "        l_max = np.where(sum_v == max(sum_v))[0]\n",
    "        select_index = l_max[0]\n",
    "        if len(l_max)>1:\n",
    "            chisq_min = '7c00'\n",
    "            #chisq_min = chisq_v[0]\n",
    "            for j in range(len(l_max)):\n",
    "                if chisq_min > chisq_v[l_max[j]]:\n",
    "                    chisq_min = chisq_v[l_max[j]]\n",
    "            select_index = chisq_v.index(chisq_min)\n",
    "        track_index = rc_v[select_index]\n",
    "    else: \n",
    "        track_index = rc_v\n",
    "    ##print(track_index)\n",
    "    return track_index\n",
    "\n",
    "def cleanup_index(re_matrix):\n",
    "    num_track = len(re_matrix)\n",
    "    index_v = np.ones(num_track)\n",
    "    for i in range(num_track):\n",
    "        if type(re_matrix[i])==np.ndarray:\n",
    "            len_in = len(re_matrix[i])\n",
    "        else:\n",
    "            len_in = 1\n",
    "        for j in range(1,len_in):\n",
    "            index_v[re_matrix[i][j]] = 0\n",
    "    return index_v\n",
    "##        re_matrix[re_matrix[i][j]] = [-1]\n",
    "\n",
    "def HitWarrior(track_v):\n",
    "    matrix = overlap_matrix(track_v)\n",
    "    print(matrix)\n",
    "    index_v = cleanup_index(matrix)\n",
    "    re_cluster = np.delete(matrix,np.where(index_v < 0.05), axis=0)\n",
    "    HW_output_index = np.ones((len(re_cluster),), dtype=int)*200\n",
    "    for i in range(len(re_cluster)):\n",
    "        HW_output_index[i] = track_picking(re_cluster[i], track_v)\n",
    "    return re_cluster, HW_output_index"
   ]
  },
  {
   "cell_type": "code",
   "execution_count": 60,
   "metadata": {},
   "outputs": [
    {
     "name": "stdout",
     "output_type": "stream",
     "text": [
      "[array([ 0,  6,  7,  9, 16]), 1, array([ 2,  3,  4, 17, 18, 20, 21, 22]), array([ 3,  4, 17, 18, 20, 21, 22]), array([ 4, 17, 18, 20, 21, 22]), 5, array([ 6,  7,  9, 12, 16]), array([ 7,  9, 12, 16]), array([ 8, 10, 11, 13, 14]), array([ 9, 12, 16]), array([10, 11, 13, 14]), array([11, 13, 14]), array([12, 16]), array([13, 14]), 14, array([15, 19, 23, 24, 25, 26, 27]), 16, array([17, 18, 20, 21, 22]), array([18, 20, 21, 22]), array([19, 23, 25, 26, 27]), array([20, 21, 22]), array([21, 22]), 22, array([23, 25, 26, 27]), array([24, 25, 27]), array([25, 26, 27]), array([26, 27]), 27]\n"
     ]
    }
   ],
   "source": [
    "rc, HW_out = HitWarrior(track_v)\n",
    "#print(list(HW_out))\n",
    "#print(list(rc))"
   ]
  },
  {
   "cell_type": "code",
   "execution_count": null,
   "metadata": {},
   "outputs": [],
   "source": [
    "for i in range(len(HW_out)):\n",
    "    for j in range(len(hw_v)):\n",
    "        if sum(track_v[HW_out[i], 12:28] == hw_v[j, 12:28]) > 10:\n",
    "            print(\"in_track #\",HW_out[i],\" --> out_track #\",j, sep=\"\")\n",
    "            print(track_v[HW_out[i]] == hw_v[j])\n",
    "\n",
    "hw_v[0]\n",
    "hw_v[0] == track_v[25]\n",
    "hw_v[5] == track_v[8]\n",
    "hw_v[1] == track_v[16]\n",
    "hw_v[2] == track_v[18]\n",
    "hw_v[3] == track_v[1]\n",
    "hw_v[4] == track_v[5]\n",
    "list(hw_v[2])\n",
    "\n",
    "for i in range(28):\n",
    "    if i == 12:\n",
    "        print(\"----------------------------------------------\")\n",
    "    print(hw_v[:,i])\n",
    "\n",
    "for i in range(28):\n",
    "    print(hw_v[2,i], track_v[2,i], track_v[3,i], track_v[4,i], track_v[17,i], track_v[18,i])\n",
    "\n",
    "print(hex2bin(track_v[0,3]),hex2bin(track_v[6,3]),hex2bin(track_v[7,3]),hex2bin(track_v[9,3]),hex2bin(track_v[12,3]),hex2bin(track_v[16,3]))\n",
    "print(hex2bin(track_v[8,3]),hex2bin(track_v[10,3]),hex2bin(track_v[11,3]),hex2bin(track_v[13,3]),hex2bin(track_v[14,3]))\n",
    "\n",
    "track_v[16]\n",
    "hw_v[1]\n",
    "track_v[8]\n",
    "track_v[16]==hw_v[1]\n",
    "\n",
    "hex_x = np.array([0x420c])\n",
    "hex_x.astype(float)\n",
    "\n",
    "test_list = [track_v[15,6],track_v[15,6],track_v[19,6],track_v[23,6],track_v[24,6],track_v[25,6],track_v[26,6]]\n",
    "test_v = np.array(test_list)\n",
    "test_v\n",
    "\n",
    "np.argmin([track_v[8,6],track_v[10,6],track_v[11,6],track_v[13,6],track_v[14,6]])\n",
    "np.where(test_v == min(test_v))\n",
    "min(test_v)\n",
    "np.where(test_v == min(test_v))[0]\n",
    "\n",
    "[track_v[8,5],track_v[10,5],track_v[11,5],track_v[13,5],track_v[14,5]]\n",
    "[track_v[8,4],track_v[10,4],track_v[11,4],track_v[13,4],track_v[14,4]]\n",
    "track_v[8]\n",
    "hw_v[5]==track_v[8]"
   ]
  },
  {
   "cell_type": "code",
   "execution_count": null,
   "metadata": {},
   "outputs": [],
   "source": []
  }
 ],
 "metadata": {
  "kernelspec": {
   "display_name": "Python 3",
   "language": "python",
   "name": "python3"
  },
  "language_info": {
   "codemirror_mode": {
    "name": "ipython",
    "version": 3
   },
   "file_extension": ".py",
   "mimetype": "text/x-python",
   "name": "python",
   "nbconvert_exporter": "python",
   "pygments_lexer": "ipython3",
   "version": "3.7.2"
  }
 },
 "nbformat": 4,
 "nbformat_minor": 2
}
